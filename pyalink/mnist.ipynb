{
 "cells": [
  {
   "cell_type": "code",
   "execution_count": 1,
   "metadata": {},
   "outputs": [
    {
     "name": "stdout",
     "output_type": "stream",
     "text": [
      "\n",
      "Use one of the following command to start using pyalink:\n",
      "使用以下一条命令来开始使用 pyalink：\n",
      " - useLocalEnv(parallelism, flinkHome=None, config=None)\n",
      " - useRemoteEnv(host, port, parallelism, flinkHome=None, localIp=\"localhost\", config=None)\n",
      "Call resetEnv() to reset environment and switch to another.\n",
      "使用 resetEnv() 来重置运行环境，并切换到另一个。\n",
      "\n",
      "JVM listening on 127.0.0.1:60610\n"
     ]
    },
    {
     "data": {
      "text/plain": [
       "JavaObject id=o6"
      ]
     },
     "execution_count": 1,
     "metadata": {},
     "output_type": "execute_result"
    }
   ],
   "source": [
    "from pyalink.alink import *\n",
    "resetEnv()\n",
    "useLocalEnv(1, config=None)\n"
   ]
  },
  {
   "cell_type": "markdown",
   "metadata": {},
   "source": [
    "# 手写数字识别\n",
    "- 使用Softmax 训练模型\n",
    "- 使用模型预测\n",
    "- 评估预测结果\n",
    "\n",
    "# 准备数据"
   ]
  },
  {
   "cell_type": "code",
   "execution_count": 2,
   "metadata": {},
   "outputs": [],
   "source": [
    "URL = \"http://pai-cj.cn-hangzhou.oss.aliyun-inc.com/csv/mnist_dense.csv\"\n",
    "SCHEMA_STR = \"label bigint,bitmap string\"\n",
    "mnist_data = CsvSourceBatchOp() \\\n",
    "    .setFilePath(URL) \\\n",
    "    .setSchemaStr(SCHEMA_STR)\\\n",
    "    .setFieldDelimiter(\";\")\n",
    "spliter = SplitBatchOp().setFraction(0.8)\n",
    "train = spliter.linkFrom(mnist_data)\n",
    "test = spliter.getSideOutput(0)"
   ]
  },
  {
   "cell_type": "markdown",
   "metadata": {},
   "source": [
    "# 训练 + 预测 + 评估"
   ]
  },
  {
   "cell_type": "code",
   "execution_count": null,
   "metadata": {},
   "outputs": [],
   "source": [
    "softmax = Softmax().setVectorCol(\"bitmap\").setLabelCol(\"label\") \\\n",
    "        .setPredictionCol(\"pred\").setPredictionDetailCol(\"detail\") \\\n",
    "        .setEpsilon(0.0001).setMaxIter(200)\n",
    "model = softmax.fit(train)\n",
    "res = model.transform(test)\n",
    "\n",
    "evaluation = EvalMultiClassBatchOp().setLabelCol(\"label\").setPredictionCol(\"pred\")\n",
    "metrics = evaluation.linkFrom(res).collectMetrics()"
   ]
  },
  {
   "cell_type": "markdown",
   "metadata": {},
   "source": [
    "# 打印结果"
   ]
  },
  {
   "cell_type": "code",
   "execution_count": null,
   "metadata": {},
   "outputs": [],
   "source": [
    "print(\"ConfusionMatrix:\", metrics.getConfusionMatrix())\n",
    "print(\"LabelArray:\", metrics.getLabelArray())\n",
    "print(\"LogLoss:\", metrics.getLogLoss())\n",
    "print(\"TotalSamples:\", metrics.getTotalSamples())\n",
    "print(\"ActualLabelProportion:\", metrics.getActualLabelProportion())\n",
    "print(\"ActualLabelFrequency:\", metrics.getActualLabelFrequency())\n",
    "print(\"Accuracy:\", metrics.getAccuracy())\n",
    "print(\"Kappa:\", metrics.getKappa())"
   ]
  },
  {
   "cell_type": "code",
   "execution_count": null,
   "metadata": {},
   "outputs": [],
   "source": []
  }
 ],
 "metadata": {
  "kernelspec": {
   "display_name": "Python 3",
   "language": "python",
   "name": "python3"
  },
  "language_info": {
   "codemirror_mode": {
    "name": "ipython",
    "version": 3
   },
   "file_extension": ".py",
   "mimetype": "text/x-python",
   "name": "python",
   "nbconvert_exporter": "python",
   "pygments_lexer": "ipython3",
   "version": "3.7.5"
  }
 },
 "nbformat": 4,
 "nbformat_minor": 2
}
