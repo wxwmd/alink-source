{
 "cells": [
  {
   "cell_type": "markdown",
   "metadata": {},
   "source": [
    "# 环境准备"
   ]
  },
  {
   "cell_type": "code",
   "execution_count": 1,
   "metadata": {
    "scrolled": true
   },
   "outputs": [
    {
     "name": "stdout",
     "output_type": "stream",
     "text": [
      "\n",
      "Use one of the following command to start using pyalink:\n",
      "使用以下一条命令来开始使用 pyalink：\n",
      " - useLocalEnv(parallelism, flinkHome=None, config=None)\n",
      " - useRemoteEnv(host, port, parallelism, flinkHome=None, localIp=\"localhost\", config=None)\n",
      "Call resetEnv() to reset environment and switch to another.\n",
      "使用 resetEnv() 来重置运行环境，并切换到另一个。\n",
      "\n",
      "JVM listening on 127.0.0.1:58299\n"
     ]
    },
    {
     "data": {
      "text/plain": [
       "JavaObject id=o6"
      ]
     },
     "execution_count": 1,
     "metadata": {},
     "output_type": "execute_result"
    }
   ],
   "source": [
    "# set env \n",
    "from pyalink.alink import *\n",
    "import sys, os\n",
    "resetEnv()\n",
    "useLocalEnv(1, config=None)"
   ]
  },
  {
   "cell_type": "markdown",
   "metadata": {},
   "source": [
    "# 数据准备"
   ]
  },
  {
   "cell_type": "code",
   "execution_count": 2,
   "metadata": {},
   "outputs": [],
   "source": [
    "# schema of train data\n",
    "schemaStr = \"id string, click string, dt string, C1 string, banner_pos int, site_id string, \\\n",
    "            site_domain string, site_category string, app_id string, app_domain string, \\\n",
    "            app_category string, device_id string, device_ip string, device_model string, \\\n",
    "            device_type string, device_conn_type string, C14 int, C15 int, C16 int, C17 int, \\\n",
    "            C18 int, C19 int, C20 int, C21 int\"\n",
    "\n",
    "# prepare batch train data\n",
    "#batchTrainDataFn = \"/Users/weibo/workspace/data/ctr_demo_data/train_batch.csv\"\n",
    "batchTrainDataFn = \"http://alink-testdata.oss-cn-hangzhou-zmf.aliyuncs.com/csv/avazu-small.csv\"\n",
    "trainBatchData = CsvSourceBatchOp().setFilePath(batchTrainDataFn) \\\n",
    "        .setSchemaStr(schemaStr) \\\n",
    "        .setIgnoreFirstLine(True);\n",
    "# feature fit\n",
    "labelColName = \"click\"\n",
    "vecColName = \"vec\"\n",
    "numHashFeatures = 30000\n",
    "selectedColNames =[\"C1\",\"banner_pos\",\"site_category\",\"app_domain\",\n",
    "                  \"app_category\",\"device_type\",\"device_conn_type\", \n",
    "                  \"C14\",\"C15\",\"C16\",\"C17\",\"C18\",\"C19\",\"C20\",\"C21\",\n",
    "                   \"site_id\",\"site_domain\",\"device_id\",\"device_model\"]\n",
    "\n",
    "categoryColNames = [\"C1\",\"banner_pos\",\"site_category\",\"app_domain\", \n",
    "                    \"app_category\",\"device_type\",\"device_conn_type\",\n",
    "                    \"site_id\",\"site_domain\",\"device_id\",\"device_model\"]\n",
    "\n",
    "numericalColNames = [\"C14\",\"C15\",\"C16\",\"C17\",\"C18\",\"C19\",\"C20\",\"C21\"]\n",
    "\n",
    "# prepare stream train data\n",
    "#wholeDataFile = \"/Users/weibo/workspace/data/ctr_demo_data/avazu-ctr-train.csv\"\n",
    "wholeDataFile = \"http://alink-testdata.oss-cn-hangzhou-zmf.aliyuncs.com/csv/avazu-ctr-train.csv\"\n",
    "data = CsvSourceStreamOp() \\\n",
    "        .setFilePath(wholeDataFile) \\\n",
    "        .setSchemaStr(schemaStr) \\\n",
    "        .setIgnoreFirstLine(True);\n",
    "\n",
    "# split stream to train and eval data\n",
    "spliter = SplitStreamOp().setFraction(0.5).linkFrom(data)\n",
    "train_stream_data = spliter\n",
    "test_stream_data = spliter.getSideOutput(0)"
   ]
  },
  {
   "cell_type": "markdown",
   "metadata": {},
   "source": [
    "# 在线学习五步骤\n",
    "<ul>\n",
    "    <li>步骤一、特征工程</li>\n",
    "    <li>步骤二、批式模型训练</li>\n",
    "    <li>步骤三、在线模型训练（FTRL）</li>\n",
    "    <li>步骤四、在线预测</li>\n",
    "    <li>步骤五、在线评估</li>\n",
    "</ul>"
   ]
  },
  {
   "cell_type": "markdown",
   "metadata": {},
   "source": [
    "# 步骤一、特征工程"
   ]
  },
  {
   "cell_type": "code",
   "execution_count": 3,
   "metadata": {},
   "outputs": [],
   "source": [
    "# setup feature enginerring pipeline\n",
    "feature_pipeline = Pipeline() \\\n",
    "        .add(StandardScaler() \\\n",
    "                .setSelectedCols(numericalColNames)) \\\n",
    "        .add(FeatureHasher() \\\n",
    "                .setSelectedCols(selectedColNames) \\\n",
    "                .setCategoricalCols(categoryColNames) \\\n",
    "                .setOutputCol(vecColName) \\\n",
    "                .setNumFeatures(numHashFeatures))\n",
    "\n",
    "# fit and save feature pipeline model\n",
    "FEATURE_PIPELINE_MODEL_FILE = os.path.join(os.getcwd(), \"feature_pipe_model.csv\")\n",
    "feature_pipeline.fit(trainBatchData).save(FEATURE_PIPELINE_MODEL_FILE);\n",
    "\n",
    "BatchOperator.execute();\n",
    "\n",
    "# load pipeline model\n",
    "feature_pipelineModel = PipelineModel.load(FEATURE_PIPELINE_MODEL_FILE);\n"
   ]
  },
  {
   "cell_type": "markdown",
   "metadata": {},
   "source": [
    "# 步骤二、批式模型训练"
   ]
  },
  {
   "cell_type": "code",
   "execution_count": 4,
   "metadata": {},
   "outputs": [],
   "source": [
    "# train initial batch model\n",
    "lr = LogisticRegressionTrainBatchOp()\n",
    "initModel = lr.setVectorCol(vecColName) \\\n",
    "        .setLabelCol(labelColName) \\\n",
    "        .setWithIntercept(True) \\\n",
    "        .setMaxIter(10) \\\n",
    "        .linkFrom(feature_pipelineModel.transform(trainBatchData)) "
   ]
  },
  {
   "cell_type": "markdown",
   "metadata": {},
   "source": [
    "### 在线模型训练（FTRL）"
   ]
  },
  {
   "cell_type": "code",
   "execution_count": 5,
   "metadata": {},
   "outputs": [],
   "source": [
    "# ftrl train \n",
    "model = FtrlTrainStreamOp(initModel) \\\n",
    "        .setVectorCol(vecColName) \\\n",
    "        .setLabelCol(labelColName) \\\n",
    "        .setWithIntercept(True) \\\n",
    "        .setAlpha(0.1) \\\n",
    "        .setBeta(0.1) \\\n",
    "        .setL1(0.01) \\\n",
    "        .setL2(0.01) \\\n",
    "        .setTimeInterval(10) \\\n",
    "        .setVectorSize(numHashFeatures) \\\n",
    "        .linkFrom(feature_pipelineModel.transform(train_stream_data))"
   ]
  },
  {
   "cell_type": "markdown",
   "metadata": {},
   "source": [
    "### 在线预测"
   ]
  },
  {
   "cell_type": "code",
   "execution_count": 6,
   "metadata": {},
   "outputs": [
    {
     "data": {
      "text/plain": [
       "'DataStream predResult: (Updated on 2019-11-27 20:22:54)'"
      ]
     },
     "metadata": {},
     "output_type": "display_data"
    },
    {
     "data": {
      "text/html": [
       "<div>\n",
       "<style scoped>\n",
       "    .dataframe tbody tr th:only-of-type {\n",
       "        vertical-align: middle;\n",
       "    }\n",
       "\n",
       "    .dataframe tbody tr th {\n",
       "        vertical-align: top;\n",
       "    }\n",
       "\n",
       "    .dataframe thead th {\n",
       "        text-align: right;\n",
       "    }\n",
       "</style>\n",
       "<table border=\"1\" class=\"dataframe\">\n",
       "  <thead>\n",
       "    <tr style=\"text-align: right;\">\n",
       "      <th></th>\n",
       "      <th>click</th>\n",
       "      <th>pred</th>\n",
       "      <th>details</th>\n",
       "    </tr>\n",
       "  </thead>\n",
       "  <tbody>\n",
       "  </tbody>\n",
       "</table>\n",
       "</div>"
      ],
      "text/plain": [
       "Empty DataFrame\n",
       "Columns: [click, pred, details]\n",
       "Index: []"
      ]
     },
     "metadata": {},
     "output_type": "display_data"
    }
   ],
   "source": [
    "# ftrl predict\n",
    "predResult = FtrlPredictStreamOp(initModel) \\\n",
    "        .setVectorCol(vecColName) \\\n",
    "        .setPredictionCol(\"pred\") \\\n",
    "        .setReservedCols([labelColName]) \\\n",
    "        .setPredictionDetailCol(\"details\") \\\n",
    "        .linkFrom(model, feature_pipelineModel.transform(test_stream_data))\n",
    "\n",
    "predResult.print(key=\"predResult\", refreshInterval = 30, maxLimit=20)"
   ]
  },
  {
   "cell_type": "markdown",
   "metadata": {},
   "source": [
    "### 在线评估"
   ]
  },
  {
   "cell_type": "code",
   "execution_count": 7,
   "metadata": {},
   "outputs": [
    {
     "data": {
      "text/plain": [
       "'DataStream evaluation: (Updated on 2019-11-27 20:22:54)'"
      ]
     },
     "metadata": {},
     "output_type": "display_data"
    },
    {
     "data": {
      "text/html": [
       "<div>\n",
       "<style scoped>\n",
       "    .dataframe tbody tr th:only-of-type {\n",
       "        vertical-align: middle;\n",
       "    }\n",
       "\n",
       "    .dataframe tbody tr th {\n",
       "        vertical-align: top;\n",
       "    }\n",
       "\n",
       "    .dataframe thead th {\n",
       "        text-align: right;\n",
       "    }\n",
       "</style>\n",
       "<table border=\"1\" class=\"dataframe\">\n",
       "  <thead>\n",
       "    <tr style=\"text-align: right;\">\n",
       "      <th></th>\n",
       "      <th>Statistics</th>\n",
       "      <th>Accuracy</th>\n",
       "      <th>AUC</th>\n",
       "      <th>ConfusionMatrix</th>\n",
       "    </tr>\n",
       "  </thead>\n",
       "  <tbody>\n",
       "  </tbody>\n",
       "</table>\n",
       "</div>"
      ],
      "text/plain": [
       "Empty DataFrame\n",
       "Columns: [Statistics, Accuracy, AUC, ConfusionMatrix]\n",
       "Index: []"
      ]
     },
     "metadata": {},
     "output_type": "display_data"
    },
    {
     "ename": "KeyboardInterrupt",
     "evalue": "",
     "output_type": "error",
     "traceback": [
      "\u001b[0;31m---------------------------------------------------------------------------\u001b[0m",
      "\u001b[0;31mKeyboardInterrupt\u001b[0m                         Traceback (most recent call last)",
      "\u001b[0;32m<ipython-input-7-7a7064c2cc1d>\u001b[0m in \u001b[0;36m<module>\u001b[0;34m\u001b[0m\n\u001b[1;32m     12\u001b[0m                 .setJsonPath([\"$.Accuracy\", \"$.AUC\", \"$.ConfusionMatrix\"])) \\\n\u001b[1;32m     13\u001b[0m                 \u001b[0;34m.\u001b[0m\u001b[0mprint\u001b[0m\u001b[0;34m(\u001b[0m\u001b[0mkey\u001b[0m\u001b[0;34m=\u001b[0m\u001b[0;34m\"evaluation\"\u001b[0m\u001b[0;34m,\u001b[0m \u001b[0mrefreshInterval\u001b[0m \u001b[0;34m=\u001b[0m \u001b[0;36m30\u001b[0m\u001b[0;34m,\u001b[0m \u001b[0mmaxLimit\u001b[0m\u001b[0;34m=\u001b[0m\u001b[0;36m20\u001b[0m\u001b[0;34m)\u001b[0m\u001b[0;34m\u001b[0m\u001b[0;34m\u001b[0m\u001b[0m\n\u001b[0;32m---> 14\u001b[0;31m \u001b[0mStreamOperator\u001b[0m\u001b[0;34m.\u001b[0m\u001b[0mexecute\u001b[0m\u001b[0;34m(\u001b[0m\u001b[0;34m)\u001b[0m\u001b[0;34m;\u001b[0m\u001b[0;34m\u001b[0m\u001b[0;34m\u001b[0m\u001b[0m\n\u001b[0m",
      "\u001b[0;32m/usr/local/lib/python3.7/site-packages/pyalink-1.0_flink_1.9.0_scala_2.11-py3.7.egg/pyalink/alink/stream/base.pyc\u001b[0m in \u001b[0;36mexecute\u001b[0;34m(cls)\u001b[0m\n",
      "\u001b[0;32m/usr/local/lib/python3.7/site-packages/py4j/java_gateway.py\u001b[0m in \u001b[0;36m__call__\u001b[0;34m(self, *args)\u001b[0m\n\u001b[1;32m   1282\u001b[0m             \u001b[0mproto\u001b[0m\u001b[0;34m.\u001b[0m\u001b[0mEND_COMMAND_PART\u001b[0m\u001b[0;34m\u001b[0m\u001b[0;34m\u001b[0m\u001b[0m\n\u001b[1;32m   1283\u001b[0m \u001b[0;34m\u001b[0m\u001b[0m\n\u001b[0;32m-> 1284\u001b[0;31m         \u001b[0manswer\u001b[0m \u001b[0;34m=\u001b[0m \u001b[0mself\u001b[0m\u001b[0;34m.\u001b[0m\u001b[0mgateway_client\u001b[0m\u001b[0;34m.\u001b[0m\u001b[0msend_command\u001b[0m\u001b[0;34m(\u001b[0m\u001b[0mcommand\u001b[0m\u001b[0;34m)\u001b[0m\u001b[0;34m\u001b[0m\u001b[0;34m\u001b[0m\u001b[0m\n\u001b[0m\u001b[1;32m   1285\u001b[0m         return_value = get_return_value(\n\u001b[1;32m   1286\u001b[0m             answer, self.gateway_client, self.target_id, self.name)\n",
      "\u001b[0;32m/usr/local/lib/python3.7/site-packages/py4j/java_gateway.py\u001b[0m in \u001b[0;36msend_command\u001b[0;34m(self, command, retry, binary)\u001b[0m\n\u001b[1;32m   1012\u001b[0m         \u001b[0mconnection\u001b[0m \u001b[0;34m=\u001b[0m \u001b[0mself\u001b[0m\u001b[0;34m.\u001b[0m\u001b[0m_get_connection\u001b[0m\u001b[0;34m(\u001b[0m\u001b[0;34m)\u001b[0m\u001b[0;34m\u001b[0m\u001b[0;34m\u001b[0m\u001b[0m\n\u001b[1;32m   1013\u001b[0m         \u001b[0;32mtry\u001b[0m\u001b[0;34m:\u001b[0m\u001b[0;34m\u001b[0m\u001b[0;34m\u001b[0m\u001b[0m\n\u001b[0;32m-> 1014\u001b[0;31m             \u001b[0mresponse\u001b[0m \u001b[0;34m=\u001b[0m \u001b[0mconnection\u001b[0m\u001b[0;34m.\u001b[0m\u001b[0msend_command\u001b[0m\u001b[0;34m(\u001b[0m\u001b[0mcommand\u001b[0m\u001b[0;34m)\u001b[0m\u001b[0;34m\u001b[0m\u001b[0;34m\u001b[0m\u001b[0m\n\u001b[0m\u001b[1;32m   1015\u001b[0m             \u001b[0;32mif\u001b[0m \u001b[0mbinary\u001b[0m\u001b[0;34m:\u001b[0m\u001b[0;34m\u001b[0m\u001b[0;34m\u001b[0m\u001b[0m\n\u001b[1;32m   1016\u001b[0m                 \u001b[0;32mreturn\u001b[0m \u001b[0mresponse\u001b[0m\u001b[0;34m,\u001b[0m \u001b[0mself\u001b[0m\u001b[0;34m.\u001b[0m\u001b[0m_create_connection_guard\u001b[0m\u001b[0;34m(\u001b[0m\u001b[0mconnection\u001b[0m\u001b[0;34m)\u001b[0m\u001b[0;34m\u001b[0m\u001b[0;34m\u001b[0m\u001b[0m\n",
      "\u001b[0;32m/usr/local/lib/python3.7/site-packages/py4j/java_gateway.py\u001b[0m in \u001b[0;36msend_command\u001b[0;34m(self, command)\u001b[0m\n\u001b[1;32m   1179\u001b[0m \u001b[0;34m\u001b[0m\u001b[0m\n\u001b[1;32m   1180\u001b[0m         \u001b[0;32mtry\u001b[0m\u001b[0;34m:\u001b[0m\u001b[0;34m\u001b[0m\u001b[0;34m\u001b[0m\u001b[0m\n\u001b[0;32m-> 1181\u001b[0;31m             \u001b[0manswer\u001b[0m \u001b[0;34m=\u001b[0m \u001b[0msmart_decode\u001b[0m\u001b[0;34m(\u001b[0m\u001b[0mself\u001b[0m\u001b[0;34m.\u001b[0m\u001b[0mstream\u001b[0m\u001b[0;34m.\u001b[0m\u001b[0mreadline\u001b[0m\u001b[0;34m(\u001b[0m\u001b[0;34m)\u001b[0m\u001b[0;34m[\u001b[0m\u001b[0;34m:\u001b[0m\u001b[0;34m-\u001b[0m\u001b[0;36m1\u001b[0m\u001b[0;34m]\u001b[0m\u001b[0;34m)\u001b[0m\u001b[0;34m\u001b[0m\u001b[0;34m\u001b[0m\u001b[0m\n\u001b[0m\u001b[1;32m   1182\u001b[0m             \u001b[0mlogger\u001b[0m\u001b[0;34m.\u001b[0m\u001b[0mdebug\u001b[0m\u001b[0;34m(\u001b[0m\u001b[0;34m\"Answer received: {0}\"\u001b[0m\u001b[0;34m.\u001b[0m\u001b[0mformat\u001b[0m\u001b[0;34m(\u001b[0m\u001b[0manswer\u001b[0m\u001b[0;34m)\u001b[0m\u001b[0;34m)\u001b[0m\u001b[0;34m\u001b[0m\u001b[0;34m\u001b[0m\u001b[0m\n\u001b[1;32m   1183\u001b[0m             \u001b[0;32mif\u001b[0m \u001b[0manswer\u001b[0m\u001b[0;34m.\u001b[0m\u001b[0mstartswith\u001b[0m\u001b[0;34m(\u001b[0m\u001b[0mproto\u001b[0m\u001b[0;34m.\u001b[0m\u001b[0mRETURN_MESSAGE\u001b[0m\u001b[0;34m)\u001b[0m\u001b[0;34m:\u001b[0m\u001b[0;34m\u001b[0m\u001b[0;34m\u001b[0m\u001b[0m\n",
      "\u001b[0;32m/usr/local/Cellar/python/3.7.5/Frameworks/Python.framework/Versions/3.7/lib/python3.7/socket.py\u001b[0m in \u001b[0;36mreadinto\u001b[0;34m(self, b)\u001b[0m\n\u001b[1;32m    587\u001b[0m         \u001b[0;32mwhile\u001b[0m \u001b[0;32mTrue\u001b[0m\u001b[0;34m:\u001b[0m\u001b[0;34m\u001b[0m\u001b[0;34m\u001b[0m\u001b[0m\n\u001b[1;32m    588\u001b[0m             \u001b[0;32mtry\u001b[0m\u001b[0;34m:\u001b[0m\u001b[0;34m\u001b[0m\u001b[0;34m\u001b[0m\u001b[0m\n\u001b[0;32m--> 589\u001b[0;31m                 \u001b[0;32mreturn\u001b[0m \u001b[0mself\u001b[0m\u001b[0;34m.\u001b[0m\u001b[0m_sock\u001b[0m\u001b[0;34m.\u001b[0m\u001b[0mrecv_into\u001b[0m\u001b[0;34m(\u001b[0m\u001b[0mb\u001b[0m\u001b[0;34m)\u001b[0m\u001b[0;34m\u001b[0m\u001b[0;34m\u001b[0m\u001b[0m\n\u001b[0m\u001b[1;32m    590\u001b[0m             \u001b[0;32mexcept\u001b[0m \u001b[0mtimeout\u001b[0m\u001b[0;34m:\u001b[0m\u001b[0;34m\u001b[0m\u001b[0;34m\u001b[0m\u001b[0m\n\u001b[1;32m    591\u001b[0m                 \u001b[0mself\u001b[0m\u001b[0;34m.\u001b[0m\u001b[0m_timeout_occurred\u001b[0m \u001b[0;34m=\u001b[0m \u001b[0;32mTrue\u001b[0m\u001b[0;34m\u001b[0m\u001b[0;34m\u001b[0m\u001b[0m\n",
      "\u001b[0;31mKeyboardInterrupt\u001b[0m: "
     ]
    }
   ],
   "source": [
    "# ftrl eval\n",
    "EvalBinaryClassStreamOp() \\\n",
    "        .setLabelCol(labelColName) \\\n",
    "        .setPredictionCol(\"pred\") \\\n",
    "        .setPredictionDetailCol(\"details\") \\\n",
    "        .setTimeInterval(10) \\\n",
    "        .linkFrom(predResult) \\\n",
    "        .link(JsonValueStreamOp() \\\n",
    "                .setSelectedCol(\"Data\") \\\n",
    "                .setReservedCols([\"Statistics\"]) \\\n",
    "                .setOutputCols([\"Accuracy\", \"AUC\", \"ConfusionMatrix\"]) \\\n",
    "                .setJsonPath([\"$.Accuracy\", \"$.AUC\", \"$.ConfusionMatrix\"])) \\\n",
    "                .print(key=\"evaluation\", refreshInterval = 30, maxLimit=20)\n",
    "StreamOperator.execute();"
   ]
  },
  {
   "cell_type": "code",
   "execution_count": null,
   "metadata": {},
   "outputs": [],
   "source": []
  }
 ],
 "metadata": {
  "kernelspec": {
   "display_name": "Python 3",
   "language": "python",
   "name": "python3"
  },
  "language_info": {
   "codemirror_mode": {
    "name": "ipython",
    "version": 3
   },
   "file_extension": ".py",
   "mimetype": "text/x-python",
   "name": "python",
   "nbconvert_exporter": "python",
   "pygments_lexer": "ipython3",
   "version": "3.7.5"
  }
 },
 "nbformat": 4,
 "nbformat_minor": 2
}
